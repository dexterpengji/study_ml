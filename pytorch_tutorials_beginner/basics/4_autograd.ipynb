{
 "cells": [
  {
   "cell_type": "code",
   "execution_count": 41,
   "id": "9192a3c3",
   "metadata": {},
   "outputs": [
    {
     "name": "stdout",
     "output_type": "stream",
     "text": [
      "Gradient function for z = <AddBackward0 object at 0x126a04580>\n",
      "Gradient function for loss = <BinaryCrossEntropyWithLogitsBackward0 object at 0x126a05b70>\n"
     ]
    }
   ],
   "source": [
    "# use torch.autograd to implement automatic differentiation\n",
    "# example of a one-layer neural network\n",
    "# input: x\n",
    "# output: z\n",
    "# expected output: y\n",
    "# parameters: vector w and vector b\n",
    "\n",
    "import torch\n",
    "\n",
    "x = torch.ones(5)   # input\n",
    "y = torch.zeros(3)  # expected output\n",
    "w = torch.randn(5, 3, requires_grad=True)   # parameters: n in randn means normal, gaussion distribution, mean=0 and std=1\n",
    "b = torch.randn(3, requires_grad=True) # parameters: set requires_grad=True to be able to compute the gradients of loss function\n",
    "z = x@w + b # @ is matmul(x, w)\n",
    "loss = torch.nn.functional.binary_cross_entropy_with_logits(z, y) # target z to become closer and closer to y\n",
    "\n",
    "print(f\"Gradient function for z = {z.grad_fn}\")\n",
    "print(f\"Gradient function for loss = {loss.grad_fn}\")"
   ]
  },
  {
   "cell_type": "code",
   "execution_count": null,
   "id": "9288644d",
   "metadata": {},
   "outputs": [
    {
     "name": "stdout",
     "output_type": "stream",
     "text": [
      "tensor([[0.4922, 0.2885, 0.7575],\n",
      "        [0.4922, 0.2885, 0.7575],\n",
      "        [0.4922, 0.2885, 0.7575],\n",
      "        [0.4922, 0.2885, 0.7575],\n",
      "        [0.4922, 0.2885, 0.7575]])\n",
      "tensor([0.4922, 0.2885, 0.7575])\n"
     ]
    }
   ],
   "source": [
    "# compute the gradients\n",
    "# !!! parameters' grad are for optimization\n",
    "# this is done be compute the derivatives of the loss function\n",
    "# here the grad we need are 'loss/'w and 'loss/'b under fixed values of x and y\n",
    "loss.backward() # compute the derivatives of the loss function\n",
    "# loss.backward(retain_graph=True) # with retain_graph=True, parameters are not updated, limited run for 1 time.\n",
    "print(w.grad) # retrieve the gradient\n",
    "print(b.grad) # retrieve the gradient"
   ]
  },
  {
   "cell_type": "code",
   "execution_count": 43,
   "id": "7dd7be3f",
   "metadata": {},
   "outputs": [
    {
     "name": "stdout",
     "output_type": "stream",
     "text": [
      "True\n",
      "False\n",
      "False\n"
     ]
    }
   ],
   "source": [
    "# disable gradient tracking\n",
    "# when do you need this?\n",
    "# 1> the layer has been trained, just need to apply it to some input data\n",
    "# 2> to freeze some parameters\n",
    "# 3> to speed up computations when only doing forward pass (tracking costs more computing power)\n",
    "\n",
    "# example:\n",
    "# gradient tracking is enabled\n",
    "z = x@w + b\n",
    "print(z.requires_grad)\n",
    "\n",
    "# option 1: surround the computation code with torch.no_grad()\n",
    "with torch.no_grad():\n",
    "    z = x@w + b\n",
    "print(z.requires_grad)\n",
    "\n",
    "# option 2: use detach()\n",
    "z = x@w + b\n",
    "z_det = z.detach()\n",
    "print(z_det.requires_grad)"
   ]
  },
  {
   "cell_type": "code",
   "execution_count": 44,
   "id": "69daccee",
   "metadata": {},
   "outputs": [
    {
     "name": "stdout",
     "output_type": "stream",
     "text": [
      "inp\n",
      "tensor([[1., 0., 0., 0., 0.],\n",
      "        [0., 1., 0., 0., 0.],\n",
      "        [0., 0., 1., 0., 0.],\n",
      "        [0., 0., 0., 1., 0.]], requires_grad=True)\n",
      "out\n",
      "tensor([[4., 1., 1., 1.],\n",
      "        [1., 4., 1., 1.],\n",
      "        [1., 1., 4., 1.],\n",
      "        [1., 1., 1., 4.],\n",
      "        [1., 1., 1., 1.]], grad_fn=<TBackward0>)\n",
      "First call\n",
      "tensor([[4., 2., 2., 2., 2.],\n",
      "        [2., 4., 2., 2., 2.],\n",
      "        [2., 2., 4., 2., 2.],\n",
      "        [2., 2., 2., 4., 2.]])\n",
      "\n",
      "Second call\n",
      "tensor([[8., 4., 4., 4., 4.],\n",
      "        [4., 8., 4., 4., 4.],\n",
      "        [4., 4., 8., 4., 4.],\n",
      "        [4., 4., 4., 8., 4.]])\n",
      "\n",
      "Call after zeroing gradients\n",
      "tensor([[4., 2., 2., 2., 2.],\n",
      "        [2., 4., 2., 2., 2.],\n",
      "        [2., 2., 4., 2., 2.],\n",
      "        [2., 2., 2., 4., 2.]])\n"
     ]
    }
   ],
   "source": [
    "# tensor gradients and jacobian products\n",
    "\n",
    "inp = torch.eye(4, 5, requires_grad=True)\n",
    "print(f\"inp\\n{inp}\")\n",
    "out = (inp + 1).pow(2).t()\n",
    "print(f\"out\\n{out}\")\n",
    "out.backward(torch.ones_like(out), retain_graph=True)\n",
    "print(f\"First call\\n{inp.grad}\")\n",
    "out.backward(torch.ones_like(out), retain_graph=True)\n",
    "print(f\"\\nSecond call\\n{inp.grad}\")\n",
    "inp.grad.zero_()\n",
    "out.backward(torch.ones_like(out), retain_graph=True)\n",
    "print(f\"\\nCall after zeroing gradients\\n{inp.grad}\")"
   ]
  }
 ],
 "metadata": {
  "kernelspec": {
   "display_name": "ml",
   "language": "python",
   "name": "python3"
  },
  "language_info": {
   "codemirror_mode": {
    "name": "ipython",
    "version": 3
   },
   "file_extension": ".py",
   "mimetype": "text/x-python",
   "name": "python",
   "nbconvert_exporter": "python",
   "pygments_lexer": "ipython3",
   "version": "3.11.13"
  }
 },
 "nbformat": 4,
 "nbformat_minor": 5
}
