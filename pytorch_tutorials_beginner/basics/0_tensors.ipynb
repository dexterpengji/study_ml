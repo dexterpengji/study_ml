{
 "cells": [
  {
   "cell_type": "markdown",
   "id": "7905b02d",
   "metadata": {},
   "source": [
    "# Learn the Basics\n",
    "[PyTorch Tutorial Doc](https://docs.pytorch.org/tutorials/beginner/basics/intro.html)"
   ]
  },
  {
   "cell_type": "code",
   "execution_count": null,
   "id": "982ad108",
   "metadata": {},
   "outputs": [],
   "source": [
    "import torch\n",
    "import numpy as np\n"
   ]
  },
  {
   "cell_type": "code",
   "execution_count": null,
   "id": "fc7903eb",
   "metadata": {},
   "outputs": [
    {
     "name": "stdout",
     "output_type": "stream",
     "text": [
      "tensor([[1, 2],\n",
      "        [3, 4]])\n"
     ]
    }
   ],
   "source": [
    "# initialize tensor from list\n",
    "data = [[1, 2], [3, 4]]\n",
    "x_data = torch.tensor(data)\n",
    "print(x_data)"
   ]
  },
  {
   "cell_type": "code",
   "execution_count": null,
   "id": "07e0eeb3",
   "metadata": {},
   "outputs": [
    {
     "name": "stdout",
     "output_type": "stream",
     "text": [
      "tensor([[1, 2],\n",
      "        [3, 4]])\n"
     ]
    }
   ],
   "source": [
    "# initialize tensor from np array\n",
    "np_array = np.array(data)\n",
    "x_np = torch.from_numpy(np_array)\n",
    "print(x_np)"
   ]
  },
  {
   "cell_type": "code",
   "execution_count": null,
   "id": "2a3dd70d",
   "metadata": {},
   "outputs": [
    {
     "name": "stdout",
     "output_type": "stream",
     "text": [
      "Ones Tensor: \n",
      " tensor([[1, 1],\n",
      "        [1, 1]]) \n",
      "\n",
      "Zeros Tensor: \n",
      " tensor([[0, 0],\n",
      "        [0, 0]]) \n",
      "\n",
      "Random Tensor: \n",
      " tensor([[0.4516, 0.9487],\n",
      "        [0.3092, 0.1272]]) \n",
      "\n"
     ]
    }
   ],
   "source": [
    "# initialize tensor from another tensor\n",
    "x_ones = torch.ones_like(x_data)\n",
    "print(f\"Ones Tensor: \\n {x_ones} \\n\")\n",
    "\n",
    "x_zeros = torch.zeros_like(x_data)\n",
    "print(f\"Zeros Tensor: \\n {x_zeros} \\n\")\n",
    "\n",
    "x_rand = torch.rand_like(x_data, dtype=torch.float)\n",
    "print(f\"Random Tensor: \\n {x_rand} \\n\")\n"
   ]
  },
  {
   "cell_type": "code",
   "execution_count": null,
   "id": "b231ba9a",
   "metadata": {},
   "outputs": [
    {
     "name": "stdout",
     "output_type": "stream",
     "text": [
      "Random Tensor: \n",
      " tensor([[[0.9921, 0.8389, 0.5772, 0.1090, 0.0351],\n",
      "         [0.9764, 0.5828, 0.5044, 0.5168, 0.3949],\n",
      "         [0.8364, 0.8128, 0.3646, 0.2772, 0.6258]],\n",
      "\n",
      "        [[0.0825, 0.7545, 0.7762, 0.1899, 0.0128],\n",
      "         [0.1945, 0.4907, 0.6940, 0.8986, 0.9920],\n",
      "         [0.2203, 0.8014, 0.7141, 0.2954, 0.1712]]]) \n",
      "\n",
      "Ones Tensor: \n",
      " tensor([[[1., 1., 1., 1., 1.],\n",
      "         [1., 1., 1., 1., 1.],\n",
      "         [1., 1., 1., 1., 1.]],\n",
      "\n",
      "        [[1., 1., 1., 1., 1.],\n",
      "         [1., 1., 1., 1., 1.],\n",
      "         [1., 1., 1., 1., 1.]]]) \n",
      "\n",
      "Zeros Tensor: \n",
      " tensor([[[0., 0., 0., 0., 0.],\n",
      "         [0., 0., 0., 0., 0.],\n",
      "         [0., 0., 0., 0., 0.]],\n",
      "\n",
      "        [[0., 0., 0., 0., 0.],\n",
      "         [0., 0., 0., 0., 0.],\n",
      "         [0., 0., 0., 0., 0.]]]) \n",
      "\n"
     ]
    }
   ],
   "source": [
    "# tensor of random and constant\n",
    "shape = (2, 3, 5) # outer first to inner last\n",
    "rand_tensor = torch.rand(shape)\n",
    "ones_tensor = torch.ones(shape)\n",
    "zeros_tensor = torch.zeros(shape)\n",
    "\n",
    "print(f\"Random Tensor: \\n {rand_tensor} \\n\")\n",
    "print(f\"Ones Tensor: \\n {ones_tensor} \\n\")\n",
    "print(f\"Zeros Tensor: \\n {zeros_tensor} \\n\")"
   ]
  },
  {
   "cell_type": "code",
   "execution_count": null,
   "id": "2a9afc18",
   "metadata": {},
   "outputs": [
    {
     "name": "stdout",
     "output_type": "stream",
     "text": [
      "Tensor Shape: torch.Size([2, 3, 5])\n",
      "Tensor Datatype: torch.float32\n",
      "Tensor is stored on device: cpu\n"
     ]
    }
   ],
   "source": [
    "# tensor attributes\n",
    "tensor = torch.rand(2,3,5)\n",
    "print(f\"Tensor Shape: {tensor.shape}\")\n",
    "print(f\"Tensor Datatype: {tensor.dtype}\")\n",
    "print(f\"Tensor is stored on device: {tensor.device}\")"
   ]
  },
  {
   "cell_type": "code",
   "execution_count": null,
   "id": "5555be63",
   "metadata": {},
   "outputs": [
    {
     "name": "stdout",
     "output_type": "stream",
     "text": [
      "tensor is on device: cpu\n",
      "tensor has been moved to device: mps:0\n"
     ]
    }
   ],
   "source": [
    "# move the tensor to the current accelerator if available\n",
    "print(f\"tensor is on device: {tensor.device}\")\n",
    "if torch.accelerator.is_available():\n",
    "    tensor = tensor.to(torch.accelerator.current_accelerator())\n",
    "print(f\"tensor has been moved to device: {tensor.device}\")\n"
   ]
  },
  {
   "cell_type": "code",
   "execution_count": null,
   "id": "95f2d32f",
   "metadata": {},
   "outputs": [
    {
     "name": "stdout",
     "output_type": "stream",
     "text": [
      "tensor([[1., 1., 1., 1.],\n",
      "        [1., 1., 1., 1.],\n",
      "        [1., 1., 1., 1.],\n",
      "        [1., 1., 1., 1.]])\n",
      "First row: tensor([-1., -1., -1.,  0.])\n",
      "Last column: tensor([0., 0., 0., 0.])\n",
      "tensor([[-1., -1., -1.,  0.],\n",
      "        [ 1.,  1.,  1.,  0.],\n",
      "        [ 1.,  1.,  1.,  0.],\n",
      "        [ 1.,  1.,  1.,  0.]])\n"
     ]
    }
   ],
   "source": [
    "# indexing and slicing like numpy\n",
    "tensor = torch.ones(4, 4)\n",
    "print(tensor)\n",
    "tensor[0] = -1 # update first row\n",
    "tensor[:, -1] = 0 # update last column\n",
    "print(f\"First row: {tensor[0]}\")\n",
    "print(f\"Last column: {tensor[:, -1]}\")\n",
    "print(tensor)\n"
   ]
  },
  {
   "cell_type": "code",
   "execution_count": null,
   "id": "e7a6c988",
   "metadata": {},
   "outputs": [
    {
     "name": "stdout",
     "output_type": "stream",
     "text": [
      "tensor([[-1., -1., -1.,  0.],\n",
      "        [ 1.,  1.,  1.,  0.],\n",
      "        [ 1.,  1.,  1.,  0.],\n",
      "        [ 1.,  1.,  1.,  0.],\n",
      "        [-1., -1., -1.,  0.],\n",
      "        [ 1.,  1.,  1.,  0.],\n",
      "        [ 1.,  1.,  1.,  0.],\n",
      "        [ 1.,  1.,  1.,  0.],\n",
      "        [-1., -1., -1.,  0.],\n",
      "        [ 1.,  1.,  1.,  0.],\n",
      "        [ 1.,  1.,  1.,  0.],\n",
      "        [ 1.,  1.,  1.,  0.]])\n",
      "tensor([[-1., -1., -1.,  0., -1., -1., -1.,  0., -1., -1., -1.,  0.],\n",
      "        [ 1.,  1.,  1.,  0.,  1.,  1.,  1.,  0.,  1.,  1.,  1.,  0.],\n",
      "        [ 1.,  1.,  1.,  0.,  1.,  1.,  1.,  0.,  1.,  1.,  1.,  0.],\n",
      "        [ 1.,  1.,  1.,  0.,  1.,  1.,  1.,  0.,  1.,  1.,  1.,  0.]])\n"
     ]
    }
   ],
   "source": [
    "# concatenate a sequence of tensors along a given dimension, 0 is the innerest\n",
    "t0 = torch.cat([tensor, tensor, tensor], dim=0)\n",
    "print(t0)\n",
    "t1 = torch.cat([tensor, tensor, tensor], dim=1)\n",
    "print(t1)"
   ]
  },
  {
   "cell_type": "code",
   "execution_count": null,
   "id": "24d82dc7",
   "metadata": {},
   "outputs": [
    {
     "name": "stdout",
     "output_type": "stream",
     "text": [
      "tensor([[1., 0., 1., 1.],\n",
      "        [1., 0., 1., 1.],\n",
      "        [1., 0., 1., 1.],\n",
      "        [1., 0., 1., 1.]])\n",
      "transpose of tensor: \n",
      "tensor([[1., 1., 1., 1.],\n",
      "        [0., 0., 0., 0.],\n",
      "        [1., 1., 1., 1.],\n",
      "        [1., 1., 1., 1.]])\n",
      "y1 = tensor.T @ tensor = \n",
      "tensor([[4., 0., 4., 4.],\n",
      "        [0., 0., 0., 0.],\n",
      "        [4., 0., 4., 4.],\n",
      "        [4., 0., 4., 4.]])\n",
      "y2 = tensor.T.matmul(tensor) = \n",
      "tensor([[4., 0., 4., 4.],\n",
      "        [0., 0., 0., 0.],\n",
      "        [4., 0., 4., 4.],\n",
      "        [4., 0., 4., 4.]])\n",
      "initiate y3 with the shape of y1: \n",
      "tensor([[0.9939, 0.6490, 0.8507, 0.1899],\n",
      "        [0.2876, 0.8715, 0.7515, 0.5969],\n",
      "        [0.3648, 0.2004, 0.4021, 0.0503],\n",
      "        [0.0694, 0.9324, 0.5475, 0.1287]])\n",
      "calculate the multiplication and assign the output to y3: \n",
      "tensor([[4., 0., 4., 4.],\n",
      "        [0., 0., 0., 0.],\n",
      "        [4., 0., 4., 4.],\n",
      "        [4., 0., 4., 4.]])\n"
     ]
    }
   ],
   "source": [
    "# arithmetic operation - matrix multiplication\n",
    "# y1, y2, y3 have the same value\n",
    "tensor = torch.ones(4, 4)\n",
    "tensor[:, 1] = 0\n",
    "print(tensor)\n",
    "print(f\"transpose of tensor: \\n{tensor.T}\")\n",
    "\n",
    "y1 = tensor.T @ tensor\n",
    "print(f\"y1 = tensor.T @ tensor = \\n{y1}\")\n",
    "\n",
    "y2 = tensor.T.matmul(tensor) # same as y2\n",
    "print(f\"y2 = tensor.T.matmul(tensor) = \\n{y2}\")\n",
    "\n",
    "y3 = torch.rand_like(y1)\n",
    "print(f\"initiate y3 with the shape of y1: \\n{y3}\")\n",
    "torch.matmul(tensor.T, tensor, out=y3)\n",
    "print(f\"calculate the multiplication and assign the output to y3: \\n{y3}\")"
   ]
  },
  {
   "cell_type": "code",
   "execution_count": null,
   "id": "20af6824",
   "metadata": {},
   "outputs": [
    {
     "name": "stdout",
     "output_type": "stream",
     "text": [
      "tensor([[1., 0., 1., 1.],\n",
      "        [0., 0., 0., 0.],\n",
      "        [1., 0., 1., 1.],\n",
      "        [1., 0., 1., 1.]])\n",
      "tensor([[1., 0., 1., 1.],\n",
      "        [0., 0., 0., 0.],\n",
      "        [1., 0., 1., 1.],\n",
      "        [1., 0., 1., 1.]])\n",
      "tensor([[1., 0., 1., 1.],\n",
      "        [0., 0., 0., 0.],\n",
      "        [1., 0., 1., 1.],\n",
      "        [1., 0., 1., 1.]])\n",
      "tensor([[1., 0., 1., 1.],\n",
      "        [0., 0., 0., 0.],\n",
      "        [1., 0., 1., 1.],\n",
      "        [1., 0., 1., 1.]])\n"
     ]
    }
   ],
   "source": [
    "# arithmetic operation - element-wise product (A * B = B * A)\n",
    "# z1, z10, z2, z3 have the same value\n",
    "z1 = tensor.T * tensor\n",
    "z10 = tensor * tensor.T\n",
    "z2 = tensor.mul(tensor.T)\n",
    "z3 = torch.rand_like(tensor)\n",
    "torch.mul(tensor, tensor.T, out=z3)\n",
    "print(z1)\n",
    "print(z10)\n",
    "print(z2)\n",
    "print(z3)"
   ]
  },
  {
   "cell_type": "code",
   "execution_count": null,
   "id": "bcce06b5",
   "metadata": {},
   "outputs": [
    {
     "name": "stdout",
     "output_type": "stream",
     "text": [
      "12.0 <class 'float'>\n"
     ]
    }
   ],
   "source": [
    "# single-element tensors\n",
    "agg = tensor.sum()\n",
    "agg_item = agg.item()\n",
    "print(agg_item, type(agg_item))"
   ]
  },
  {
   "cell_type": "code",
   "execution_count": null,
   "id": "6a596f97",
   "metadata": {},
   "outputs": [
    {
     "name": "stdout",
     "output_type": "stream",
     "text": [
      "tensor([[1., 0., 1., 1.],\n",
      "        [1., 0., 1., 1.],\n",
      "        [1., 0., 1., 1.],\n",
      "        [1., 0., 1., 1.]]) \n",
      "\n",
      "tensor([[6., 5., 6., 6.],\n",
      "        [6., 5., 6., 6.],\n",
      "        [6., 5., 6., 6.],\n",
      "        [6., 5., 6., 6.]]) \n",
      "\n",
      "tensor([[6., 5., 6., 6.],\n",
      "        [6., 5., 6., 6.],\n",
      "        [6., 5., 6., 6.],\n",
      "        [6., 5., 6., 6.]])\n",
      "add without _: tensor([[1., 0., 1., 1.],\n",
      "        [1., 0., 1., 1.],\n",
      "        [1., 0., 1., 1.],\n",
      "        [1., 0., 1., 1.]]) \n",
      "\n",
      "add_: tensor([[6., 5., 6., 6.],\n",
      "        [6., 5., 6., 6.],\n",
      "        [6., 5., 6., 6.],\n",
      "        [6., 5., 6., 6.]]) \n",
      "\n"
     ]
    }
   ],
   "source": [
    "# in-place operation\n",
    "print(f\"{tensor} \\n\")\n",
    "\n",
    "print(f\"{tensor + 5} \\n\")\n",
    "\n",
    "print(tensor.add(5))\n",
    "print(f\"add without _: {tensor} \\n\")\n",
    "\n",
    "tensor.add_(5)\n",
    "print(f\"add_: {tensor} \\n\")\n"
   ]
  },
  {
   "cell_type": "code",
   "execution_count": null,
   "id": "6e644d67",
   "metadata": {},
   "outputs": [
    {
     "name": "stdout",
     "output_type": "stream",
     "text": [
      "tensor to numpy\n",
      "t: tensor([[1., 1., 1.],\n",
      "        [1., 1., 1.]])\n",
      "n: [[1. 1. 1.]\n",
      " [1. 1. 1.]]\n",
      "t: tensor([[2., 2., 2.],\n",
      "        [2., 2., 2.]])\n",
      "n: [[2. 2. 2.]\n",
      " [2. 2. 2.]]\n",
      "\n",
      "numpy to tensor\n",
      "n = np.ones([2, 3]): \n",
      "[[1. 1. 1.]\n",
      " [1. 1. 1.]]\n",
      "t = torch.from_numpy(n): \n",
      "tensor([[1., 1., 1.],\n",
      "        [1., 1., 1.]], dtype=torch.float64)\n",
      "\n",
      "updated n: np.add(n, 1, out=n)\n",
      "n: [[2. 2. 2.]\n",
      " [2. 2. 2.]]\n",
      "t: tensor([[2., 2., 2.],\n",
      "        [2., 2., 2.]], dtype=torch.float64)\n"
     ]
    }
   ],
   "source": [
    "# bridge with numpy\n",
    "# tensors on CPU and numpy arrays can share their underlying memory locations, changing one will change the other.\n",
    "print(\"tensor to numpy\")\n",
    "t = torch.ones(2, 3)\n",
    "print(f\"t: {t}\")\n",
    "\n",
    "n = t.numpy()\n",
    "print(f\"n: {n}\")\n",
    "\n",
    "t.add_(1)\n",
    "print(f\"t: {t}\")\n",
    "print(f\"n: {n}\")\n",
    "\n",
    "print(\"\\nnumpy to tensor\")\n",
    "n = np.ones([2, 3])\n",
    "print(f\"n = np.ones([2, 3]): \\n{n}\")\n",
    "t = torch.from_numpy(n)\n",
    "print(f\"t = torch.from_numpy(n): \\n{t}\")\n",
    "np.add(n, 1, out=n)\n",
    "print(f\"\\nupdated n: np.add(n, 1, out=n)\")\n",
    "print(f\"n: {n}\")\n",
    "print(f\"t: {t}\")\n"
   ]
  }
 ],
 "metadata": {
  "kernelspec": {
   "display_name": "ml",
   "language": "python",
   "name": "python3"
  },
  "language_info": {
   "codemirror_mode": {
    "name": "ipython",
    "version": 3
   },
   "file_extension": ".py",
   "mimetype": "text/x-python",
   "name": "python",
   "nbconvert_exporter": "python",
   "pygments_lexer": "ipython3",
   "version": "3.11.13"
  }
 },
 "nbformat": 4,
 "nbformat_minor": 5
}
