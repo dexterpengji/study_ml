{
 "cells": [
  {
   "cell_type": "code",
   "execution_count": 27,
   "id": "3b1c3e71",
   "metadata": {},
   "outputs": [
    {
     "name": "stdout",
     "output_type": "stream",
     "text": [
      "Using mps device\n",
      "NeuralNetwork(\n",
      "  (flatten): Flatten(start_dim=1, end_dim=-1)\n",
      "  (linear_relu_stack): Sequential(\n",
      "    (0): Linear(in_features=784, out_features=512, bias=True)\n",
      "    (1): ReLU()\n",
      "    (2): Linear(in_features=512, out_features=512, bias=True)\n",
      "    (3): ReLU()\n",
      "    (4): Linear(in_features=512, out_features=10, bias=True)\n",
      "  )\n",
      ")\n"
     ]
    }
   ],
   "source": [
    "import os\n",
    "import torch\n",
    "from torch import nn\n",
    "from torch.utils.data import DataLoader\n",
    "from torchvision import datasets, transforms\n",
    "\n",
    "# try to use accelerated computing device for training\n",
    "device = torch.accelerator.current_accelerator().type if torch.accelerator.is_available() else \"cpu\"\n",
    "print(f\"Using {device} device\")\n",
    "\n",
    "# define the neural network\n",
    "class NeuralNetwork(nn.Module):\n",
    "    def __init__(self):\n",
    "        super().__init__()\n",
    "        self.flatten = nn.Flatten()\n",
    "        self.linear_relu_stack = nn.Sequential(\n",
    "            nn.Linear(28*28, 512),\n",
    "            nn.ReLU(),\n",
    "            nn.Linear(512, 512),\n",
    "            nn.ReLU(),\n",
    "            nn.Linear(512, 10),\n",
    "        )\n",
    "    \n",
    "    def forward(self, x):\n",
    "        x = self.flatten(x)\n",
    "        logits = self.linear_relu_stack(x)\n",
    "        return logits\n",
    "\n",
    "model = NeuralNetwork().to(device)\n",
    "print(model)"
   ]
  },
  {
   "cell_type": "code",
   "execution_count": 28,
   "id": "584e69e5",
   "metadata": {},
   "outputs": [
    {
     "name": "stdout",
     "output_type": "stream",
     "text": [
      "Predicted class: tensor([4], device='mps:0')\n"
     ]
    }
   ],
   "source": [
    "X = torch.rand(1, 28, 28, device=device)\n",
    "logits = model(X) # call the model this way, model.forward() will run in the bg\n",
    "pred_probab = nn.Softmax(dim=1)(logits) # dim 0 is batch dim, dim 1 is prediction probabilities\n",
    "y_pred = pred_probab.argmax(1)\n",
    "print(f\"Predicted class: {y_pred}\")"
   ]
  },
  {
   "cell_type": "markdown",
   "id": "565abe0d",
   "metadata": {},
   "source": [
    "## break down the layers in the FashionMNIST model\n",
    "we will take a sample minibatch of 3 images of size 28x28 and see what happens to it as we pass it through the network."
   ]
  },
  {
   "cell_type": "code",
   "execution_count": 37,
   "id": "499a9771",
   "metadata": {},
   "outputs": [
    {
     "name": "stdout",
     "output_type": "stream",
     "text": [
      "torch.Size([3, 28, 28])\n"
     ]
    }
   ],
   "source": [
    "# the input: tensor of 3 images\n",
    "input_image = torch.rand(3, 28, 28)\n",
    "print(input_image.size())"
   ]
  },
  {
   "cell_type": "code",
   "execution_count": 38,
   "id": "c8d4e088",
   "metadata": {},
   "outputs": [
    {
     "name": "stdout",
     "output_type": "stream",
     "text": [
      "torch.Size([3, 784])\n"
     ]
    }
   ],
   "source": [
    "# the flatten layer: flattened image tensor\n",
    "flatten = nn.Flatten()\n",
    "flat_image = flatten(input_image)\n",
    "print(flat_image.size())"
   ]
  },
  {
   "cell_type": "code",
   "execution_count": 40,
   "id": "01e432cb",
   "metadata": {},
   "outputs": [
    {
     "name": "stdout",
     "output_type": "stream",
     "text": [
      "torch.Size([3, 20])\n"
     ]
    }
   ],
   "source": [
    "# layer1 applies a linear transformation to flat_image\n",
    "layer1 = nn.Linear(in_features=28*28, out_features=20)\n",
    "hidden1 = layer1(flat_image)\n",
    "print(hidden1.size())"
   ]
  },
  {
   "cell_type": "code",
   "execution_count": 41,
   "id": "f6a215bf",
   "metadata": {},
   "outputs": [
    {
     "name": "stdout",
     "output_type": "stream",
     "text": [
      "Before ReLU: tensor([[ 0.1931, -0.4149, -0.6015, -0.1277,  0.3377, -0.2601, -0.4019, -0.4808,\n",
      "         -0.1818,  0.4065, -0.1671,  0.1613, -0.4092,  0.2892, -0.1395,  0.3229,\n",
      "          0.0257,  0.1307,  0.2823,  0.2873],\n",
      "        [ 0.1653, -0.5899, -0.8688,  0.3223,  0.2421, -0.2604, -0.6106, -0.1406,\n",
      "         -0.3327, -0.1322, -0.1783,  0.1999, -0.5296,  0.2087, -0.4435, -0.0872,\n",
      "          0.2054, -0.1892,  0.4954,  0.4275],\n",
      "        [ 0.2393, -0.0657, -0.8361,  0.1622,  0.1395, -0.5463, -0.2437, -0.2680,\n",
      "         -0.2572,  0.0530, -0.1475,  0.4746, -0.2199,  0.2692, -0.1424,  0.0947,\n",
      "          0.2154, -0.5861,  0.2871,  0.3444]], grad_fn=<AddmmBackward0>)\n",
      "\n",
      "After ReLU: tensor([[0.1931, 0.0000, 0.0000, 0.0000, 0.3377, 0.0000, 0.0000, 0.0000, 0.0000,\n",
      "         0.4065, 0.0000, 0.1613, 0.0000, 0.2892, 0.0000, 0.3229, 0.0257, 0.1307,\n",
      "         0.2823, 0.2873],\n",
      "        [0.1653, 0.0000, 0.0000, 0.3223, 0.2421, 0.0000, 0.0000, 0.0000, 0.0000,\n",
      "         0.0000, 0.0000, 0.1999, 0.0000, 0.2087, 0.0000, 0.0000, 0.2054, 0.0000,\n",
      "         0.4954, 0.4275],\n",
      "        [0.2393, 0.0000, 0.0000, 0.1622, 0.1395, 0.0000, 0.0000, 0.0000, 0.0000,\n",
      "         0.0530, 0.0000, 0.4746, 0.0000, 0.2692, 0.0000, 0.0947, 0.2154, 0.0000,\n",
      "         0.2871, 0.3444]], grad_fn=<ReluBackward0>)\n"
     ]
    }
   ],
   "source": [
    "# The non-linear transformation here is ReLU (Rectified Linear Unit).\n",
    "# ReLU resets numbers < 0 to be 0, and keep number >= 0 the same.\n",
    "print(f\"Before ReLU: {hidden1}\\n\")\n",
    "hidden1 = nn.ReLU()(hidden1)\n",
    "print(f\"After ReLU: {hidden1}\")"
   ]
  },
  {
   "cell_type": "code",
   "execution_count": 56,
   "id": "4bb97bc4",
   "metadata": {},
   "outputs": [
    {
     "name": "stdout",
     "output_type": "stream",
     "text": [
      "tensor([[ 0.1615,  0.0766, -0.0018, -0.2135,  0.0304,  0.0891,  0.2161,  0.2952,\n",
      "          0.1532, -0.1787],\n",
      "        [ 0.1674,  0.0912,  0.1385, -0.0246, -0.0701, -0.0309,  0.2904,  0.2522,\n",
      "          0.2309, -0.2610],\n",
      "        [ 0.1267,  0.1811,  0.1084, -0.1822, -0.0659, -0.0167,  0.2088,  0.2860,\n",
      "          0.2879, -0.2167]], grad_fn=<AddmmBackward0>)\n"
     ]
    }
   ],
   "source": [
    "# nn.Sequential is an ordered container of layers (modules), and data passes through all ordered layers\n",
    "# nn.Sequential can be quickly used to define a network like seq_modules below\n",
    "\n",
    "seq_modules = nn.Sequential(\n",
    "    flatten,\n",
    "    layer1,\n",
    "    nn.ReLU(),\n",
    "    nn.Linear(20, 10)\n",
    ")\n",
    "input_image = torch.rand(3, 28, 28)\n",
    "logits = seq_modules(input_image)\n",
    "print(logits)"
   ]
  },
  {
   "cell_type": "code",
   "execution_count": 61,
   "id": "b5b223ce",
   "metadata": {},
   "outputs": [
    {
     "name": "stdout",
     "output_type": "stream",
     "text": [
      "tensor([[0.1091, 0.1002, 0.0927, 0.0750, 0.0957, 0.1015, 0.1152, 0.1247, 0.1082,\n",
      "         0.0776],\n",
      "        [0.1079, 0.1000, 0.1048, 0.0890, 0.0851, 0.0885, 0.1220, 0.1174, 0.1150,\n",
      "         0.0703],\n",
      "        [0.1041, 0.1099, 0.1022, 0.0764, 0.0859, 0.0902, 0.1130, 0.1221, 0.1223,\n",
      "         0.0738]], grad_fn=<SoftmaxBackward0>)\n"
     ]
    }
   ],
   "source": [
    "# the last layer of seq_modules returns logits\n",
    "# logits are raw values in [-infty, infty]\n",
    "# pass logits through nn.Softmax to scale the values in [0, 1] representing the model's predicted probabilities\n",
    "softmax = nn.Softmax(dim=1) # dim indicates the dimension along which the values must sum to 1\n",
    "pred_probab = softmax(logits)\n",
    "print(pred_probab)"
   ]
  },
  {
   "cell_type": "code",
   "execution_count": 63,
   "id": "da5ccf5c",
   "metadata": {},
   "outputs": [
    {
     "name": "stdout",
     "output_type": "stream",
     "text": [
      "Model structure: NeuralNetwork(\n",
      "  (flatten): Flatten(start_dim=1, end_dim=-1)\n",
      "  (linear_relu_stack): Sequential(\n",
      "    (0): Linear(in_features=784, out_features=512, bias=True)\n",
      "    (1): ReLU()\n",
      "    (2): Linear(in_features=512, out_features=512, bias=True)\n",
      "    (3): ReLU()\n",
      "    (4): Linear(in_features=512, out_features=10, bias=True)\n",
      "  )\n",
      ")\n",
      "\n",
      "Layer: linear_relu_stack.0.weight | Size: torch.Size([512, 784]) | Values: tensor([[ 0.0032, -0.0245, -0.0245,  ..., -0.0246, -0.0323,  0.0006],\n",
      "        [-0.0108,  0.0277, -0.0058,  ..., -0.0331,  0.0103,  0.0135]],\n",
      "       device='mps:0', grad_fn=<SliceBackward0>) \n",
      "\n",
      "Layer: linear_relu_stack.0.bias | Size: torch.Size([512]) | Values: tensor([-0.0354,  0.0214], device='mps:0', grad_fn=<SliceBackward0>) \n",
      "\n",
      "Layer: linear_relu_stack.2.weight | Size: torch.Size([512, 512]) | Values: tensor([[ 0.0202,  0.0135, -0.0404,  ..., -0.0325,  0.0162, -0.0270],\n",
      "        [ 0.0034, -0.0324,  0.0329,  ..., -0.0345,  0.0168, -0.0255]],\n",
      "       device='mps:0', grad_fn=<SliceBackward0>) \n",
      "\n",
      "Layer: linear_relu_stack.2.bias | Size: torch.Size([512]) | Values: tensor([ 0.0274, -0.0071], device='mps:0', grad_fn=<SliceBackward0>) \n",
      "\n",
      "Layer: linear_relu_stack.4.weight | Size: torch.Size([10, 512]) | Values: tensor([[-0.0390, -0.0379, -0.0336,  ..., -0.0070,  0.0308, -0.0191],\n",
      "        [ 0.0215, -0.0200,  0.0397,  ...,  0.0354,  0.0287,  0.0298]],\n",
      "       device='mps:0', grad_fn=<SliceBackward0>) \n",
      "\n",
      "Layer: linear_relu_stack.4.bias | Size: torch.Size([10]) | Values: tensor([ 0.0184, -0.0318], device='mps:0', grad_fn=<SliceBackward0>) \n",
      "\n"
     ]
    }
   ],
   "source": [
    "print(f\"Model structure: {model}\\n\")\n",
    "\n",
    "for name, param in model.named_parameters():\n",
    "    print(f\"Layer: {name} | Size: {param.size()} | Values: {param[:2]} \\n\")"
   ]
  }
 ],
 "metadata": {
  "kernelspec": {
   "display_name": "ml",
   "language": "python",
   "name": "python3"
  },
  "language_info": {
   "codemirror_mode": {
    "name": "ipython",
    "version": 3
   },
   "file_extension": ".py",
   "mimetype": "text/x-python",
   "name": "python",
   "nbconvert_exporter": "python",
   "pygments_lexer": "ipython3",
   "version": "3.11.13"
  }
 },
 "nbformat": 4,
 "nbformat_minor": 5
}
