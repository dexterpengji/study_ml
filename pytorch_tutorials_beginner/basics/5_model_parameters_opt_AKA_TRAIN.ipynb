{
 "cells": [
  {
   "cell_type": "code",
   "execution_count": 45,
   "id": "2c02f280",
   "metadata": {},
   "outputs": [],
   "source": [
    "# model and data are ready\n",
    "# it's time to train, validate and test the model\n",
    "# training is an iterative process, in each iteration\n",
    "# > the model guesses an output \n",
    "# > calculates the error with the guess through loss function\n",
    "# > collects the derivatives of error (retrieve the gradients of parameters)\n",
    "# > optimizes parameters using the gradient descent"
   ]
  },
  {
   "cell_type": "code",
   "execution_count": 46,
   "id": "a6da28b9",
   "metadata": {},
   "outputs": [],
   "source": [
    "import torch\n",
    "from torch import nn\n",
    "from torch.nn import functional as F\n",
    "from torch.utils.data import DataLoader\n",
    "from torchvision import datasets\n",
    "from torchvision.transforms import ToTensor"
   ]
  },
  {
   "cell_type": "code",
   "execution_count": 47,
   "id": "58c110f1",
   "metadata": {},
   "outputs": [
    {
     "name": "stdout",
     "output_type": "stream",
     "text": [
      "Using device: cuda\n"
     ]
    }
   ],
   "source": [
    "device = torch.device(\"cuda\" if torch.cuda.is_available() else \"cpu\")\n",
    "print(f\"Using device: {device}\")"
   ]
  },
  {
   "cell_type": "code",
   "execution_count": 48,
   "id": "bed6c3f4",
   "metadata": {},
   "outputs": [],
   "source": [
    "training_data = datasets.FashionMNIST(\n",
    "    root=\"data\",\n",
    "    train=True,\n",
    "    download=True,\n",
    "    transform=ToTensor()\n",
    ")\n",
    "\n",
    "test_data = datasets.FashionMNIST(\n",
    "    root=\"data\",\n",
    "    train=False,\n",
    "    download=True,\n",
    "    transform=ToTensor()\n",
    ")\n",
    "\n",
    "train_dataloader = DataLoader(training_data, batch_size=64)\n",
    "test_dataloader = DataLoader(test_data, batch_size=64)"
   ]
  },
  {
   "cell_type": "code",
   "execution_count": 49,
   "id": "6626d809",
   "metadata": {},
   "outputs": [],
   "source": [
    "class NeuralNetwork(nn.Module):\n",
    "    def __init__(self):\n",
    "        super().__init__()\n",
    "        self.flatten = nn.Flatten()\n",
    "        self.linear_relu_stack = nn.Sequential(\n",
    "            nn.Linear(28*28, 512),\n",
    "            nn.ReLU(),\n",
    "            nn.Linear(512, 512),\n",
    "            nn.ReLU(),\n",
    "            nn.Linear(512, 10),\n",
    "        )\n",
    "    \n",
    "    def forward(self, x):\n",
    "        x = self.flatten(x)\n",
    "        logits = self.linear_relu_stack(x)\n",
    "        return logits\n",
    "\n",
    "model = NeuralNetwork().to(device)"
   ]
  },
  {
   "cell_type": "code",
   "execution_count": 50,
   "id": "12adcfe4",
   "metadata": {},
   "outputs": [],
   "source": [
    "class LeNet(nn.Module):\n",
    "    def __init__(self, num_classes=10):\n",
    "        super(LeNet, self).__init__()\n",
    "        # Convolutional layers\n",
    "        self.conv1 = nn.Conv2d(1, 6, kernel_size=5, stride=1, padding=2)\n",
    "        self.conv2 = nn.Conv2d(6, 16, kernel_size=5, stride=1)\n",
    "        # Fully connected layers\n",
    "        self.fc1 = nn.Linear(16 * 5 * 5, 120)\n",
    "        self.fc2 = nn.Linear(120, 84)\n",
    "        self.fc3 = nn.Linear(84, num_classes)\n",
    "\n",
    "    def forward(self, x):\n",
    "        # First convolutional layer + activation + pooling\n",
    "        x = F.relu(self.conv1(x))\n",
    "        x = F.max_pool2d(x, 2)\n",
    "        # Second convolutional layer + activation + pooling\n",
    "        x = F.relu(self.conv2(x))\n",
    "        x = F.max_pool2d(x, 2)\n",
    "        # Flatten\n",
    "        x = x.view(x.size(0), -1)\n",
    "        # Fully connected layers + activation\n",
    "        x = F.relu(self.fc1(x))\n",
    "        x = F.relu(self.fc2(x))\n",
    "        # Output layer\n",
    "        x = self.fc3(x)\n",
    "        return x\n",
    "    \n",
    "model = LeNet().to(device)"
   ]
  },
  {
   "cell_type": "code",
   "execution_count": 51,
   "id": "97f44911",
   "metadata": {},
   "outputs": [],
   "source": [
    "learning_rate = 1e-3"
   ]
  },
  {
   "cell_type": "code",
   "execution_count": 52,
   "id": "e49f91ae",
   "metadata": {},
   "outputs": [],
   "source": [
    "def train_loop(dataloader, model, loss_fn, optimizer):\n",
    "    size = len(dataloader.dataset)\n",
    "    # set mode as training: important for batch normalization and dropout layers\n",
    "    model.train() # unnecessary in this situation, but added for best practice\n",
    "    for batch, (X, y) in enumerate(dataloader):\n",
    "        # move data to device\n",
    "        X, y = X.to(device), y.to(device)\n",
    "        # forward\n",
    "        pred = model(X)\n",
    "        loss = loss_fn(pred, y)\n",
    "        # back propagation\n",
    "        loss.backward()\n",
    "        optimizer.step()\n",
    "        optimizer.zero_grad()\n",
    "\n",
    "        # # print loss every 100 batches\n",
    "        # if batch%100 == 0:\n",
    "        #     loss, current = loss.item(), batch*len(X)\n",
    "        #     print(f\"loss: {loss:>7f}  [{current:>5d}/{size:>5d}]\")\n",
    "\n",
    "def test_loop(dataloader, model, loss_fn):\n",
    "    # set mode as evaluation: important for batch normalization and dropout layers\n",
    "    model.eval() # unnecessary in this situation, but added for best practice\n",
    "    size = len(dataloader.dataset)\n",
    "    num_batches = len(dataloader)\n",
    "    test_loss, correct = 0, 0\n",
    "\n",
    "    # disable gradient computing\n",
    "    with torch.no_grad():\n",
    "        for X, y in dataloader:\n",
    "            # move data to device\n",
    "            X, y = X.to(device), y.to(device)\n",
    "            # forward\n",
    "            pred = model(X)\n",
    "            test_loss += loss_fn(pred, y).item()\n",
    "            # calculate accuracy\n",
    "            correct += (pred.argmax(1) == y).type(torch.float).sum().item()\n",
    "    test_loss /= num_batches\n",
    "    correct /= size\n",
    "    print(f\"Test --- Accuracy: {(100*correct):>0.1f}%, Avg loss: {test_loss:>8f}\\n\")\n"
   ]
  },
  {
   "cell_type": "code",
   "execution_count": 54,
   "id": "0c36a68e",
   "metadata": {},
   "outputs": [
    {
     "name": "stdout",
     "output_type": "stream",
     "text": [
      "Epoch 1 Test --- Accuracy: 10.0%, Avg loss: 2.298566\n",
      "\n",
      "Done!\n"
     ]
    }
   ],
   "source": [
    "# the main\n",
    "loss_fn = nn.CrossEntropyLoss().to(device)\n",
    "optimizer = torch.optim.SGD(model.parameters(), lr=learning_rate)\n",
    "\n",
    "epochs = 10 # read as epics, means an entire training dataset through the learning algorithm\n",
    "for t in range(epochs):\n",
    "    # print(f\"Epoch {t+1}\\n\" + '-'*20)\n",
    "    print(f\"Epoch {t+1} \", end='')\n",
    "    train_loop(train_dataloader, model, loss_fn, optimizer)\n",
    "    test_loop(test_dataloader, model, loss_fn)\n",
    "print(\"Done!\")\n",
    "\n",
    "# On Macbook M3: did 10+100+1000+10000 epochs, got Accuracy: 88.8%, Avg loss: 0.925\n",
    "# On Desktop 4090: trained for 15 min, got Accuracy: 89.0%, Avg loss: 0.314\n",
    "# On Desktop 4090: trained for 1 hour, got Accuracy: 89.2%, Avg loss: 0.314"
   ]
  },
  {
   "cell_type": "code",
   "execution_count": null,
   "id": "c43721d0",
   "metadata": {},
   "outputs": [],
   "source": [
    "# save the model\n",
    "torch.save(model.state_dict(), \"5_weights.pth\")"
   ]
  }
 ],
 "metadata": {
  "kernelspec": {
   "display_name": "ml",
   "language": "python",
   "name": "python3"
  },
  "language_info": {
   "codemirror_mode": {
    "name": "ipython",
    "version": 3
   },
   "file_extension": ".py",
   "mimetype": "text/x-python",
   "name": "python",
   "nbconvert_exporter": "python",
   "pygments_lexer": "ipython3",
   "version": "3.11.11"
  }
 },
 "nbformat": 4,
 "nbformat_minor": 5
}
