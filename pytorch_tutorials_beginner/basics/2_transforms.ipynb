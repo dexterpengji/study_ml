{
 "cells": [
  {
   "cell_type": "code",
   "execution_count": 1,
   "id": "4933edbe",
   "metadata": {},
   "outputs": [],
   "source": [
    "# use Transform to perform some data manipulation to make it suitable for training.\n",
    "# torchvision datasets have 2 parameters\n",
    "# - transform: modify the feature\n",
    "# - target_transform: modify the labels\n",
    "# ToTenso and Lambda in this example are from torchvision.transforms module\n",
    "\n",
    "import torch\n",
    "from torchvision import datasets\n",
    "from torchvision.transforms import ToTensor, Lambda\n",
    "\n",
    "ds = datasets.FashionMNIST(\n",
    "    root=\"data\",\n",
    "    train=True,\n",
    "    download=True,\n",
    "    transform=ToTensor(),\n",
    "    target_transform=Lambda( # define a function to turn the integer into a one-hot encoded tensor.\n",
    "        lambda y: torch.zeros( # creates a zero tensor of size 10 (the number of labels in our dataset)\n",
    "            10, \n",
    "            dtype=torch.float\n",
    "            ).scatter_( # calls scatter_ which assigns a value=1 on the index as given by the label y\n",
    "                0, \n",
    "                torch.tensor(y), \n",
    "                value=1\n",
    "                )\n",
    "        )\n",
    ")"
   ]
  }
 ],
 "metadata": {
  "kernelspec": {
   "display_name": "ml",
   "language": "python",
   "name": "python3"
  },
  "language_info": {
   "codemirror_mode": {
    "name": "ipython",
    "version": 3
   },
   "file_extension": ".py",
   "mimetype": "text/x-python",
   "name": "python",
   "nbconvert_exporter": "python",
   "pygments_lexer": "ipython3",
   "version": "3.11.13"
  }
 },
 "nbformat": 4,
 "nbformat_minor": 5
}
