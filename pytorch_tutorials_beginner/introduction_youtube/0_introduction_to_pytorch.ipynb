{
 "cells": [
  {
   "cell_type": "markdown",
   "id": "bba2b640",
   "metadata": {},
   "source": [
    "# Introduction to PyTorch\n",
    "[PyTorch Beginner Series on YouTube](https://www.youtube.com/playlist?list=PL_lsbAsL_o2CTlGHgMxNrKhzP97BaG9ZN)"
   ]
  },
  {
   "cell_type": "code",
   "execution_count": null,
   "id": "5021c2e0",
   "metadata": {},
   "outputs": [],
   "source": [
    "import torch"
   ]
  },
  {
   "cell_type": "markdown",
   "id": "5e66073e",
   "metadata": {},
   "source": [
    "## PyTorch Tensors"
   ]
  },
  {
   "cell_type": "code",
   "execution_count": null,
   "id": "993f1b03",
   "metadata": {},
   "outputs": [
    {
     "name": "stdout",
     "output_type": "stream",
     "text": [
      "tensor([[0., 0., 0.],\n",
      "        [0., 0., 0.],\n",
      "        [0., 0., 0.],\n",
      "        [0., 0., 0.],\n",
      "        [0., 0., 0.]])\n",
      "torch.float32\n"
     ]
    }
   ],
   "source": [
    "z = torch.zeros(5, 3)\n",
    "print(z)\n",
    "print(z.dtype) # default type is float32"
   ]
  },
  {
   "cell_type": "code",
   "execution_count": null,
   "id": "38a78b4c",
   "metadata": {},
   "outputs": [
    {
     "name": "stdout",
     "output_type": "stream",
     "text": [
      "tensor([[0, 0, 0],\n",
      "        [0, 0, 0],\n",
      "        [0, 0, 0],\n",
      "        [0, 0, 0],\n",
      "        [0, 0, 0]], dtype=torch.int16)\n"
     ]
    }
   ],
   "source": [
    "# specify dtype\n",
    "z16 = torch.zeros(5, 3, dtype=torch.int16)\n",
    "print(z16)"
   ]
  },
  {
   "cell_type": "code",
   "execution_count": null,
   "id": "5403251b",
   "metadata": {},
   "outputs": [
    {
     "name": "stdout",
     "output_type": "stream",
     "text": [
      "tensor([[0.2065, 0.8209, 0.9006],\n",
      "        [0.9611, 0.7832, 0.7027],\n",
      "        [0.4265, 0.5869, 0.6678],\n",
      "        [0.2548, 0.7745, 0.4713],\n",
      "        [0.0950, 0.1665, 0.5943]])\n",
      "tensor([[0.7621, 0.6171, 0.8944],\n",
      "        [0.4382, 0.2336, 0.3888],\n",
      "        [0.7425, 0.0427, 0.9232],\n",
      "        [0.5066, 0.6515, 0.6728],\n",
      "        [0.6081, 0.1511, 0.4682]])\n",
      "\n",
      "r3 tensor([[0.2065, 0.8209, 0.9006],\n",
      "        [0.9611, 0.7832, 0.7027],\n",
      "        [0.4265, 0.5869, 0.6678],\n",
      "        [0.2548, 0.7745, 0.4713],\n",
      "        [0.0950, 0.1665, 0.5943]])\n",
      "= r1 tensor([[0.2065, 0.8209, 0.9006],\n",
      "        [0.9611, 0.7832, 0.7027],\n",
      "        [0.4265, 0.5869, 0.6678],\n",
      "        [0.2548, 0.7745, 0.4713],\n",
      "        [0.0950, 0.1665, 0.5943]])\n"
     ]
    }
   ],
   "source": [
    "# seed of rand\n",
    "torch.manual_seed(1992)\n",
    "r1 = torch.rand(5, 3)\n",
    "r2 = torch.rand(5, 3)\n",
    "print(r1)\n",
    "print(r2)\n",
    "\n",
    "torch.manual_seed(1992)\n",
    "r3 = torch.rand(5, 3)\n",
    "print(f\"\\nr3 {r3}\\n= r1 {r1}\")\n"
   ]
  },
  {
   "cell_type": "code",
   "execution_count": null,
   "id": "e6c13638",
   "metadata": {},
   "outputs": [
    {
     "name": "stdout",
     "output_type": "stream",
     "text": [
      "tensor([[1., 1., 1.],\n",
      "        [1., 1., 1.],\n",
      "        [1., 1., 1.],\n",
      "        [1., 1., 1.],\n",
      "        [1., 1., 1.]])\n",
      "tensor([[2., 2., 2.],\n",
      "        [2., 2., 2.],\n",
      "        [2., 2., 2.],\n",
      "        [2., 2., 2.],\n",
      "        [2., 2., 2.]])\n",
      "tensor([[3., 3., 3.],\n",
      "        [3., 3., 3.],\n",
      "        [3., 3., 3.],\n",
      "        [3., 3., 3.],\n",
      "        [3., 3., 3.]])\n"
     ]
    }
   ],
   "source": [
    "# manipulation for mats in the same shape\n",
    "ones = torch.ones(5, 3)\n",
    "print(ones)\n",
    "\n",
    "twos = torch.ones(5, 3) * 2\n",
    "print(twos)\n",
    "\n",
    "threes = ones + twos\n",
    "print(threes)"
   ]
  },
  {
   "cell_type": "code",
   "execution_count": 39,
   "id": "6a4afbbd",
   "metadata": {},
   "outputs": [
    {
     "name": "stdout",
     "output_type": "stream",
     "text": [
      "random numbers within (0, 1)\n",
      "tensor([[0.2065, 0.8209, 0.9006],\n",
      "        [0.9611, 0.7832, 0.7027],\n",
      "        [0.4265, 0.5869, 0.6678]])\n",
      "random numbers within (-1, 1)\n",
      "r = tensor([[-0.5869,  0.6419,  0.8013],\n",
      "        [ 0.9221,  0.5664,  0.4055],\n",
      "        [-0.1471,  0.1739,  0.3357]])\n",
      "absolute\n",
      "tensor([[0.5869, 0.6419, 0.8013],\n",
      "        [0.9221, 0.5664, 0.4055],\n",
      "        [0.1471, 0.1739, 0.3357]])\n",
      "asin\n",
      "tensor([[-0.6273,  0.6969,  0.9294],\n",
      "        [ 1.1736,  0.6021,  0.4175],\n",
      "        [-0.1476,  0.1747,  0.3423]])\n",
      "max\n",
      "0.9221391677856445\n",
      "average\n",
      "0.34585320949554443\n",
      "standard deviation\n",
      "0.47724148631095886\n",
      "Determinant of r\n",
      "-0.11197712272405624\n",
      "Singular value decomposition of r\n",
      "torch.return_types.svd(\n",
      "U=tensor([[-0.8269,  0.4663, -0.3143],\n",
      "        [-0.4805, -0.8762, -0.0358],\n",
      "        [-0.2921,  0.1214,  0.9486]]),\n",
      "S=tensor([1.2841, 1.1151, 0.0782]),\n",
      "V=tensor([[ 0.0663, -0.9861,  0.1526],\n",
      "        [-0.6648, -0.1577, -0.7302],\n",
      "        [-0.7441,  0.0530,  0.6660]]))\n"
     ]
    }
   ],
   "source": [
    "# available mathematical operations\n",
    "torch.manual_seed(1992)\n",
    "r = torch.rand(3, 3)\n",
    "print(f\"random numbers within (0, 1)\\n{r}\")\n",
    "\n",
    "r = r*2 - 1\n",
    "print(f\"random numbers within (-1, 1)\\nr = {r}\")\n",
    "\n",
    "print(f\"absolute\\n{r.abs()}\")\n",
    "\n",
    "print(f\"asin\\n{r.asin()}\")\n",
    "\n",
    "print(f\"max\\n{r.max()}\")\n",
    "\n",
    "print(f\"average\\n{r.mean()}\")\n",
    "\n",
    "print(f\"standard deviation\\n{r.std()}\")\n",
    "\n",
    "print(f\"Determinant of r\\n{r.det()}\")\n",
    "\n",
    "print(f\"Singular value decomposition of r\\n{r.svd()}\")"
   ]
  },
  {
   "cell_type": "markdown",
   "id": "606ce64e",
   "metadata": {},
   "source": [
    "## PyTorch Models"
   ]
  },
  {
   "cell_type": "code",
   "execution_count": null,
   "id": "2e3da8ba",
   "metadata": {},
   "outputs": [],
   "source": [
    "import torch.nn as nn           # the parent object of PyTorch models\n",
    "import torch.nn.functional as F # the activation function"
   ]
  }
 ],
 "metadata": {
  "kernelspec": {
   "display_name": "ml",
   "language": "python",
   "name": "python3"
  },
  "language_info": {
   "codemirror_mode": {
    "name": "ipython",
    "version": 3
   },
   "file_extension": ".py",
   "mimetype": "text/x-python",
   "name": "python",
   "nbconvert_exporter": "python",
   "pygments_lexer": "ipython3",
   "version": "3.11.13"
  }
 },
 "nbformat": 4,
 "nbformat_minor": 5
}
